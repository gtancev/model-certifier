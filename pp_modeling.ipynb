{
 "cells": [
  {
   "cell_type": "code",
   "execution_count": 36,
   "metadata": {},
   "outputs": [],
   "source": [
    "import pandas as pd\n",
    "from pandas.plotting import andrews_curves, parallel_coordinates\n",
    "import numpy as np\n",
    "import math\n",
    "from scipy import interpolate\n",
    "\n",
    "from sklearn.impute import SimpleImputer\n",
    "from sklearn.ensemble import IsolationForest\n",
    "from sklearn.svm import SVR, NuSVR\n",
    "from sklearn.model_selection import RandomizedSearchCV\n",
    "from sklearn.inspection import permutation_importance, partial_dependence\n",
    "from sklearn.metrics import mean_squared_error, r2_score\n",
    "from sklearn.decomposition import KernelPCA, PCA\n",
    "from joblib import dump, load\n",
    "\n",
    "%matplotlib inline\n",
    "import matplotlib.pyplot as plt\n",
    "from matplotlib.patches import Ellipse\n",
    "import matplotlib.transforms as transforms\n",
    "from matplotlib.collections import PolyCollection\n",
    "plt.rcParams[\"lines.linewidth\"] = 1.0\n",
    "plt.rcParams[\"font.size\"] = 6.0\n",
    "plt.rcParams[\"axes.titlesize\"] = 6.0"
   ]
  },
  {
   "attachments": {},
   "cell_type": "markdown",
   "metadata": {},
   "source": [
    "# Auxiliary Functions"
   ]
  },
  {
   "cell_type": "code",
   "execution_count": 2,
   "metadata": {},
   "outputs": [],
   "source": [
    "def compute_uncertainty_matrix(X, frequencies, a=10, b=110, offset=61):\n",
    "    \"\"\"\n",
    "    Function to compute matrix of uncertainties, i.e., for each experiment and\n",
    "    real and imaginary parts (at each frequency).\n",
    "\n",
    "    Input\n",
    "    -----\n",
    "    X: matrix with impedance measurements in Ohm of shape (n, p)\n",
    "    f: vector of frequencies of shape (p / 2)\n",
    "    a, b: two constants\n",
    "    offset: offset for real and imaginary parts\n",
    "\n",
    "    Output\n",
    "    ------\n",
    "    u_x: matrix with uncertaintie of shape (n, p)\n",
    "    \"\"\"\n",
    "    n, p = X.shape  # get shape of data\n",
    "    u_x = np.zeros((n, p))  # assign memory\n",
    "\n",
    "    for i in range(n):  # loop over all experiments\n",
    "        for k, f in enumerate(frequencies):  # loop over all frequencies\n",
    "            f_kHz = f * 1e-3  # transform frequency to kHz\n",
    "            c, d = 2.5 + 35 * f_kHz, 0.2 + 0.04 / f_kHz  # constants from documentation\n",
    "            Re, Im = X[i, k], X[i, offset + k]  # get real and imaginary parts\n",
    "            alpha = np.arctan(Im / Re)  # compute angle alpha\n",
    "            Z_norm = np.sqrt(Re ** 2 + Im ** 2)  # compute |Z|\n",
    "\n",
    "            # Compute uncertainties.\n",
    "            u_z = np.sqrt(a ** 2 + b ** 2 * Z_norm ** 2)  # uncertainty of |Z| in uOhm\n",
    "            u_alpha = np.sqrt(c + d ** 2 / Z_norm ** 2)  # uncertainty of angle in mdeg\n",
    "            \n",
    "            # Compute uncertainties.\n",
    "            u_Re = np.sqrt((Z_norm * np.sin(alpha) * u_alpha) ** 2 + (np.cos(alpha) * u_z) ** 2) * 1e-6  # in Ohm\n",
    "            u_Im = np.sqrt((Z_norm ** 2 * np.cos(alpha) * u_alpha) ** 2 + (np.sin(alpha) * u_z) ** 2) * 1e-6 # in Ohm\n",
    "\n",
    "            # Story uncertainties.\n",
    "            u_x[i, k], u_x[i, offset + k] = u_Re, u_Im\n",
    "\n",
    "    return u_x"
   ]
  },
  {
   "attachments": {},
   "cell_type": "markdown",
   "metadata": {},
   "source": [
    "# Preprocessing"
   ]
  },
  {
   "attachments": {},
   "cell_type": "markdown",
   "metadata": {},
   "source": [
    "This does not need to be executed unless one wants to redo preprocessing of original data."
   ]
  },
  {
   "cell_type": "code",
   "execution_count": 3,
   "metadata": {},
   "outputs": [],
   "source": [
    "# Load data.\n",
    "EIS = pd.read_csv(\"./datasets/data_EIS.csv\")\n",
    "\n",
    "# Remove bad data.\n",
    "EIS = EIS.loc[np.asarray([\"Inst5\" not in id for id in EIS[\"Cell_ID\"]])] # institution 5\n",
    "EIS = EIS.loc[np.asarray([\"Inst6\" not in id for id in EIS[\"Cell_ID\"]])] # institution 6\n",
    "lct_id = \"1_02\"\n",
    "cell_id = \"Inst1-04\"\n",
    "frequencies = np.unique(EIS[((EIS[\"LCT_ID\"] == lct_id) & (EIS[\"Cell_ID\"] == cell_id))][\"freq_Hz\"].values)"
   ]
  },
  {
   "cell_type": "code",
   "execution_count": 14,
   "metadata": {},
   "outputs": [
    {
     "data": {
      "text/html": [
       "<div>\n",
       "<style scoped>\n",
       "    .dataframe tbody tr th:only-of-type {\n",
       "        vertical-align: middle;\n",
       "    }\n",
       "\n",
       "    .dataframe tbody tr th {\n",
       "        vertical-align: top;\n",
       "    }\n",
       "\n",
       "    .dataframe thead th {\n",
       "        text-align: right;\n",
       "    }\n",
       "</style>\n",
       "<table border=\"1\" class=\"dataframe\">\n",
       "  <thead>\n",
       "    <tr style=\"text-align: right;\">\n",
       "      <th></th>\n",
       "      <th>Institution</th>\n",
       "      <th>T_cycle_degC</th>\n",
       "      <th>T_EIS_degC</th>\n",
       "      <th>SOC_cycle_high</th>\n",
       "      <th>DOD_cycle</th>\n",
       "      <th>I_cycle_A</th>\n",
       "    </tr>\n",
       "    <tr>\n",
       "      <th>LCT_ID</th>\n",
       "      <th></th>\n",
       "      <th></th>\n",
       "      <th></th>\n",
       "      <th></th>\n",
       "      <th></th>\n",
       "      <th></th>\n",
       "    </tr>\n",
       "  </thead>\n",
       "  <tbody>\n",
       "    <tr>\n",
       "      <th>1_01</th>\n",
       "      <td>Institution 5</td>\n",
       "      <td>45</td>\n",
       "      <td>23</td>\n",
       "      <td>100</td>\n",
       "      <td>100</td>\n",
       "      <td>4</td>\n",
       "    </tr>\n",
       "    <tr>\n",
       "      <th>1_02</th>\n",
       "      <td>Institution 1</td>\n",
       "      <td>45</td>\n",
       "      <td>23</td>\n",
       "      <td>100</td>\n",
       "      <td>100</td>\n",
       "      <td>4</td>\n",
       "    </tr>\n",
       "    <tr>\n",
       "      <th>1_03</th>\n",
       "      <td>Institution 6</td>\n",
       "      <td>45</td>\n",
       "      <td>23</td>\n",
       "      <td>100</td>\n",
       "      <td>100</td>\n",
       "      <td>4</td>\n",
       "    </tr>\n",
       "    <tr>\n",
       "      <th>1_04</th>\n",
       "      <td>Institution 2</td>\n",
       "      <td>45</td>\n",
       "      <td>23</td>\n",
       "      <td>100</td>\n",
       "      <td>100</td>\n",
       "      <td>4</td>\n",
       "    </tr>\n",
       "    <tr>\n",
       "      <th>1_05</th>\n",
       "      <td>Institution 3</td>\n",
       "      <td>45</td>\n",
       "      <td>23</td>\n",
       "      <td>100</td>\n",
       "      <td>100</td>\n",
       "      <td>4</td>\n",
       "    </tr>\n",
       "    <tr>\n",
       "      <th>1_06</th>\n",
       "      <td>Institution 4</td>\n",
       "      <td>45</td>\n",
       "      <td>23</td>\n",
       "      <td>100</td>\n",
       "      <td>100</td>\n",
       "      <td>4</td>\n",
       "    </tr>\n",
       "    <tr>\n",
       "      <th>1_10</th>\n",
       "      <td>Institution 1</td>\n",
       "      <td>35</td>\n",
       "      <td>23</td>\n",
       "      <td>100</td>\n",
       "      <td>100</td>\n",
       "      <td>4</td>\n",
       "    </tr>\n",
       "    <tr>\n",
       "      <th>1_11</th>\n",
       "      <td>Institution 1</td>\n",
       "      <td>45</td>\n",
       "      <td>23</td>\n",
       "      <td>75</td>\n",
       "      <td>50</td>\n",
       "      <td>4</td>\n",
       "    </tr>\n",
       "    <tr>\n",
       "      <th>1_13</th>\n",
       "      <td>Institution 3</td>\n",
       "      <td>23</td>\n",
       "      <td>23</td>\n",
       "      <td>100</td>\n",
       "      <td>100</td>\n",
       "      <td>4</td>\n",
       "    </tr>\n",
       "    <tr>\n",
       "      <th>1_14</th>\n",
       "      <td>Institution 6</td>\n",
       "      <td>45</td>\n",
       "      <td>23</td>\n",
       "      <td>100</td>\n",
       "      <td>50</td>\n",
       "      <td>4</td>\n",
       "    </tr>\n",
       "    <tr>\n",
       "      <th>1_15</th>\n",
       "      <td>Institution 2</td>\n",
       "      <td>45</td>\n",
       "      <td>23</td>\n",
       "      <td>100</td>\n",
       "      <td>70</td>\n",
       "      <td>4</td>\n",
       "    </tr>\n",
       "    <tr>\n",
       "      <th>1_16</th>\n",
       "      <td>Institution 2</td>\n",
       "      <td>45</td>\n",
       "      <td>23</td>\n",
       "      <td>100</td>\n",
       "      <td>30</td>\n",
       "      <td>4</td>\n",
       "    </tr>\n",
       "    <tr>\n",
       "      <th>1_17</th>\n",
       "      <td>Institution 4</td>\n",
       "      <td>5</td>\n",
       "      <td>23</td>\n",
       "      <td>100</td>\n",
       "      <td>100</td>\n",
       "      <td>4</td>\n",
       "    </tr>\n",
       "  </tbody>\n",
       "</table>\n",
       "</div>"
      ],
      "text/plain": [
       "          Institution  T_cycle_degC  T_EIS_degC  SOC_cycle_high  DOD_cycle  \\\n",
       "LCT_ID                                                                       \n",
       "1_01    Institution 5            45          23             100        100   \n",
       "1_02    Institution 1            45          23             100        100   \n",
       "1_03    Institution 6            45          23             100        100   \n",
       "1_04    Institution 2            45          23             100        100   \n",
       "1_05    Institution 3            45          23             100        100   \n",
       "1_06    Institution 4            45          23             100        100   \n",
       "1_10    Institution 1            35          23             100        100   \n",
       "1_11    Institution 1            45          23              75         50   \n",
       "1_13    Institution 3            23          23             100        100   \n",
       "1_14    Institution 6            45          23             100         50   \n",
       "1_15    Institution 2            45          23             100         70   \n",
       "1_16    Institution 2            45          23             100         30   \n",
       "1_17    Institution 4             5          23             100        100   \n",
       "\n",
       "        I_cycle_A  \n",
       "LCT_ID             \n",
       "1_01            4  \n",
       "1_02            4  \n",
       "1_03            4  \n",
       "1_04            4  \n",
       "1_05            4  \n",
       "1_06            4  \n",
       "1_10            4  \n",
       "1_11            4  \n",
       "1_13            4  \n",
       "1_14            4  \n",
       "1_15            4  \n",
       "1_16            4  \n",
       "1_17            4  "
      ]
     },
     "execution_count": 14,
     "metadata": {},
     "output_type": "execute_result"
    }
   ],
   "source": [
    "# Load metadata.\n",
    "metadata = pd.read_csv(\"./datasets/metadata.csv\", index_col=0)\n",
    "metadata.head(n=17)"
   ]
  },
  {
   "cell_type": "code",
   "execution_count": 15,
   "metadata": {},
   "outputs": [],
   "source": [
    "# Transform data.\n",
    "n = 2 * frequencies.shape[0]\n",
    "lct_ids = np.unique(EIS.LCT_ID)\n",
    "cell_ids = np.unique(EIS.Cell_ID)\n",
    "sohs = np.unique(EIS.SOH[EIS.SOH >= 0.5])\n",
    "socs = np.unique(EIS.SOC)\n",
    "input = np.array([])\n",
    "output = np.array([])\n",
    "output2 = np.array([])\n",
    "temperature = np.array([])\n",
    "\n",
    "for lct_id in lct_ids:\n",
    "    T_exp = metadata.loc[str(lct_id)][\"T_cycle_degC\"]\n",
    "    for cell_id in cell_ids:\n",
    "        for soc in socs:\n",
    "            for soh in sohs:\n",
    "                point = EIS[((EIS[\"LCT_ID\"] == lct_id) & (EIS[\"Cell_ID\"] == cell_id) & (EIS[\"SOC\"] == soc) & (EIS[\"SOH\"] == soh))]\n",
    "                frequency = point[[\"freq_Hz\"]].values\n",
    "                if len(frequency > 0):\n",
    "                    Z_real, Z_imag = point[[\"Zreal_ohm\"]].values, point[[\"Zimag_ohm\"]].values\n",
    "                    f_real, f_imag = interpolate.interp1d(frequency.ravel(), Z_real.ravel(), bounds_error=False), interpolate.interp1d(frequency.ravel(), Z_imag.ravel(), bounds_error=False)\n",
    "                    if len(input) == 0:\n",
    "                        input = np.concatenate((f_real(frequencies), f_imag(frequencies)), axis=0)\n",
    "                        output = soh\n",
    "                        output2 = soc\n",
    "                        input, output, output2 = np.expand_dims(input, axis=0), np.expand_dims(output, axis=0), np.expand_dims(output2, axis=0)\n",
    "                        temperature = np.expand_dims(T_exp, axis=0)\n",
    "                    else:\n",
    "                        input = np.concatenate((input, \n",
    "                                                np.expand_dims(np.concatenate((f_real(frequencies), \n",
    "                                                                               f_imag(frequencies)), axis=0), axis=0)), \n",
    "                                                                               axis=0)\n",
    "                        output = np.concatenate((output, np.asarray([soh])))\n",
    "                        output2 = np.concatenate((output2, np.asarray([soc])))\n",
    "                        temperature = np.concatenate((temperature, np.asarray([T_exp])))"
   ]
  },
  {
   "cell_type": "code",
   "execution_count": 16,
   "metadata": {},
   "outputs": [],
   "source": [
    "# Store data.\n",
    "arrays = [[\"Z_real\"] * 61 + [\"Z_imag\"] * 61, 2 * list(frequencies)]\n",
    "tuples = list(zip(*arrays))\n",
    "pd.DataFrame(input, columns=tuples).to_csv(\"input.csv\")\n",
    "pd.DataFrame(output, columns=[\"SOH\"]).to_csv(\"output.csv\")\n",
    "pd.DataFrame(output2, columns=[\"SOC\"]).to_csv(\"output2.csv\")\n",
    "pd.DataFrame(temperature, columns=[\"T_cycle\"]).to_csv(\"temperature.csv\")"
   ]
  },
  {
   "attachments": {},
   "cell_type": "markdown",
   "metadata": {},
   "source": [
    "# Modeling"
   ]
  },
  {
   "cell_type": "code",
   "execution_count": 37,
   "metadata": {},
   "outputs": [],
   "source": [
    "# Load data.\n",
    "input = pd.read_csv(\"input.csv\", index_col=0)\n",
    "output = pd.read_csv(\"output.csv\", index_col=0) # state of health (SOH)\n",
    "output2 = pd.read_csv(\"output2.csv\", index_col=0) # state of charge (SOC)"
   ]
  },
  {
   "cell_type": "code",
   "execution_count": 175,
   "metadata": {},
   "outputs": [
    {
     "data": {
      "text/html": [
       "<div>\n",
       "<style scoped>\n",
       "    .dataframe tbody tr th:only-of-type {\n",
       "        vertical-align: middle;\n",
       "    }\n",
       "\n",
       "    .dataframe tbody tr th {\n",
       "        vertical-align: top;\n",
       "    }\n",
       "\n",
       "    .dataframe thead th {\n",
       "        text-align: right;\n",
       "    }\n",
       "</style>\n",
       "<table border=\"1\" class=\"dataframe\">\n",
       "  <thead>\n",
       "    <tr style=\"text-align: right;\">\n",
       "      <th></th>\n",
       "      <th>('Z_real', 0.01)</th>\n",
       "      <th>('Z_real', 0.01259)</th>\n",
       "      <th>('Z_real', 0.01585)</th>\n",
       "      <th>('Z_real', 0.01995)</th>\n",
       "      <th>('Z_real', 0.02512)</th>\n",
       "      <th>('Z_real', 0.03162)</th>\n",
       "      <th>('Z_real', 0.03981)</th>\n",
       "      <th>('Z_real', 0.05012)</th>\n",
       "      <th>('Z_real', 0.0631)</th>\n",
       "      <th>('Z_real', 0.07943)</th>\n",
       "      <th>...</th>\n",
       "      <th>('Z_imag', 1258.92517)</th>\n",
       "      <th>('Z_imag', 1584.89294)</th>\n",
       "      <th>('Z_imag', 1995.26208)</th>\n",
       "      <th>('Z_imag', 2511.88623)</th>\n",
       "      <th>('Z_imag', 3162.27734)</th>\n",
       "      <th>('Z_imag', 3981.07129)</th>\n",
       "      <th>('Z_imag', 5011.87207)</th>\n",
       "      <th>('Z_imag', 6309.57324)</th>\n",
       "      <th>('Z_imag', 7943.28223)</th>\n",
       "      <th>('Z_imag', 10000.0)</th>\n",
       "    </tr>\n",
       "  </thead>\n",
       "  <tbody>\n",
       "    <tr>\n",
       "      <th>count</th>\n",
       "      <td>3208.000000</td>\n",
       "      <td>3805.000000</td>\n",
       "      <td>3830.000000</td>\n",
       "      <td>3830.000000</td>\n",
       "      <td>3831.000000</td>\n",
       "      <td>3831.000000</td>\n",
       "      <td>3831.000000</td>\n",
       "      <td>3831.000000</td>\n",
       "      <td>3831.000000</td>\n",
       "      <td>3831.000000</td>\n",
       "      <td>...</td>\n",
       "      <td>3833.000000</td>\n",
       "      <td>3833.000000</td>\n",
       "      <td>3833.000000</td>\n",
       "      <td>3833.000000</td>\n",
       "      <td>3833.000000</td>\n",
       "      <td>3833.000000</td>\n",
       "      <td>3833.000000</td>\n",
       "      <td>3833.000000</td>\n",
       "      <td>3833.000000</td>\n",
       "      <td>3815.000000</td>\n",
       "    </tr>\n",
       "    <tr>\n",
       "      <th>mean</th>\n",
       "      <td>0.040576</td>\n",
       "      <td>0.038274</td>\n",
       "      <td>0.037275</td>\n",
       "      <td>0.036430</td>\n",
       "      <td>0.035621</td>\n",
       "      <td>0.034949</td>\n",
       "      <td>0.034269</td>\n",
       "      <td>0.033663</td>\n",
       "      <td>0.033038</td>\n",
       "      <td>0.032442</td>\n",
       "      <td>...</td>\n",
       "      <td>0.000576</td>\n",
       "      <td>0.001089</td>\n",
       "      <td>0.001719</td>\n",
       "      <td>0.002500</td>\n",
       "      <td>0.003454</td>\n",
       "      <td>0.004619</td>\n",
       "      <td>0.006040</td>\n",
       "      <td>0.007776</td>\n",
       "      <td>0.009902</td>\n",
       "      <td>0.012499</td>\n",
       "    </tr>\n",
       "    <tr>\n",
       "      <th>std</th>\n",
       "      <td>0.026239</td>\n",
       "      <td>0.024431</td>\n",
       "      <td>0.024264</td>\n",
       "      <td>0.023912</td>\n",
       "      <td>0.023470</td>\n",
       "      <td>0.022918</td>\n",
       "      <td>0.022227</td>\n",
       "      <td>0.021384</td>\n",
       "      <td>0.020381</td>\n",
       "      <td>0.019232</td>\n",
       "      <td>...</td>\n",
       "      <td>0.000366</td>\n",
       "      <td>0.000447</td>\n",
       "      <td>0.000555</td>\n",
       "      <td>0.000681</td>\n",
       "      <td>0.000837</td>\n",
       "      <td>0.001030</td>\n",
       "      <td>0.001273</td>\n",
       "      <td>0.001578</td>\n",
       "      <td>0.001958</td>\n",
       "      <td>0.002430</td>\n",
       "    </tr>\n",
       "    <tr>\n",
       "      <th>min</th>\n",
       "      <td>0.023730</td>\n",
       "      <td>0.022709</td>\n",
       "      <td>0.022000</td>\n",
       "      <td>0.021392</td>\n",
       "      <td>0.020880</td>\n",
       "      <td>0.020469</td>\n",
       "      <td>0.020134</td>\n",
       "      <td>0.019839</td>\n",
       "      <td>0.019568</td>\n",
       "      <td>0.019333</td>\n",
       "      <td>...</td>\n",
       "      <td>-0.001396</td>\n",
       "      <td>-0.001185</td>\n",
       "      <td>-0.000912</td>\n",
       "      <td>-0.000518</td>\n",
       "      <td>-0.000035</td>\n",
       "      <td>0.000572</td>\n",
       "      <td>0.001220</td>\n",
       "      <td>0.001794</td>\n",
       "      <td>0.002487</td>\n",
       "      <td>0.003342</td>\n",
       "    </tr>\n",
       "    <tr>\n",
       "      <th>25%</th>\n",
       "      <td>0.028340</td>\n",
       "      <td>0.027121</td>\n",
       "      <td>0.026160</td>\n",
       "      <td>0.025434</td>\n",
       "      <td>0.024738</td>\n",
       "      <td>0.024245</td>\n",
       "      <td>0.023755</td>\n",
       "      <td>0.023386</td>\n",
       "      <td>0.023024</td>\n",
       "      <td>0.022708</td>\n",
       "      <td>...</td>\n",
       "      <td>0.000360</td>\n",
       "      <td>0.000857</td>\n",
       "      <td>0.001458</td>\n",
       "      <td>0.002189</td>\n",
       "      <td>0.003076</td>\n",
       "      <td>0.004149</td>\n",
       "      <td>0.005462</td>\n",
       "      <td>0.007048</td>\n",
       "      <td>0.009002</td>\n",
       "      <td>0.011373</td>\n",
       "    </tr>\n",
       "    <tr>\n",
       "      <th>50%</th>\n",
       "      <td>0.031605</td>\n",
       "      <td>0.030216</td>\n",
       "      <td>0.029237</td>\n",
       "      <td>0.028502</td>\n",
       "      <td>0.027746</td>\n",
       "      <td>0.027201</td>\n",
       "      <td>0.026634</td>\n",
       "      <td>0.026210</td>\n",
       "      <td>0.025761</td>\n",
       "      <td>0.025428</td>\n",
       "      <td>...</td>\n",
       "      <td>0.000577</td>\n",
       "      <td>0.001080</td>\n",
       "      <td>0.001724</td>\n",
       "      <td>0.002499</td>\n",
       "      <td>0.003458</td>\n",
       "      <td>0.004626</td>\n",
       "      <td>0.006048</td>\n",
       "      <td>0.007773</td>\n",
       "      <td>0.009867</td>\n",
       "      <td>0.012415</td>\n",
       "    </tr>\n",
       "    <tr>\n",
       "      <th>75%</th>\n",
       "      <td>0.040529</td>\n",
       "      <td>0.038057</td>\n",
       "      <td>0.036994</td>\n",
       "      <td>0.036132</td>\n",
       "      <td>0.035299</td>\n",
       "      <td>0.034636</td>\n",
       "      <td>0.034006</td>\n",
       "      <td>0.033514</td>\n",
       "      <td>0.033039</td>\n",
       "      <td>0.032625</td>\n",
       "      <td>...</td>\n",
       "      <td>0.000896</td>\n",
       "      <td>0.001477</td>\n",
       "      <td>0.002205</td>\n",
       "      <td>0.003103</td>\n",
       "      <td>0.004181</td>\n",
       "      <td>0.005494</td>\n",
       "      <td>0.007109</td>\n",
       "      <td>0.009091</td>\n",
       "      <td>0.011523</td>\n",
       "      <td>0.014511</td>\n",
       "    </tr>\n",
       "    <tr>\n",
       "      <th>max</th>\n",
       "      <td>0.394220</td>\n",
       "      <td>0.386223</td>\n",
       "      <td>0.376157</td>\n",
       "      <td>0.362494</td>\n",
       "      <td>0.345258</td>\n",
       "      <td>0.322698</td>\n",
       "      <td>0.294470</td>\n",
       "      <td>0.263890</td>\n",
       "      <td>0.226978</td>\n",
       "      <td>0.195631</td>\n",
       "      <td>...</td>\n",
       "      <td>0.001247</td>\n",
       "      <td>0.001904</td>\n",
       "      <td>0.002713</td>\n",
       "      <td>0.003714</td>\n",
       "      <td>0.004946</td>\n",
       "      <td>0.006456</td>\n",
       "      <td>0.008309</td>\n",
       "      <td>0.010586</td>\n",
       "      <td>0.013386</td>\n",
       "      <td>0.016815</td>\n",
       "    </tr>\n",
       "  </tbody>\n",
       "</table>\n",
       "<p>8 rows × 122 columns</p>\n",
       "</div>"
      ],
      "text/plain": [
       "       ('Z_real', 0.01)  ('Z_real', 0.01259)  ('Z_real', 0.01585)  \\\n",
       "count       3208.000000          3805.000000          3830.000000   \n",
       "mean           0.040576             0.038274             0.037275   \n",
       "std            0.026239             0.024431             0.024264   \n",
       "min            0.023730             0.022709             0.022000   \n",
       "25%            0.028340             0.027121             0.026160   \n",
       "50%            0.031605             0.030216             0.029237   \n",
       "75%            0.040529             0.038057             0.036994   \n",
       "max            0.394220             0.386223             0.376157   \n",
       "\n",
       "       ('Z_real', 0.01995)  ('Z_real', 0.02512)  ('Z_real', 0.03162)  \\\n",
       "count          3830.000000          3831.000000          3831.000000   \n",
       "mean              0.036430             0.035621             0.034949   \n",
       "std               0.023912             0.023470             0.022918   \n",
       "min               0.021392             0.020880             0.020469   \n",
       "25%               0.025434             0.024738             0.024245   \n",
       "50%               0.028502             0.027746             0.027201   \n",
       "75%               0.036132             0.035299             0.034636   \n",
       "max               0.362494             0.345258             0.322698   \n",
       "\n",
       "       ('Z_real', 0.03981)  ('Z_real', 0.05012)  ('Z_real', 0.0631)  \\\n",
       "count          3831.000000          3831.000000         3831.000000   \n",
       "mean              0.034269             0.033663            0.033038   \n",
       "std               0.022227             0.021384            0.020381   \n",
       "min               0.020134             0.019839            0.019568   \n",
       "25%               0.023755             0.023386            0.023024   \n",
       "50%               0.026634             0.026210            0.025761   \n",
       "75%               0.034006             0.033514            0.033039   \n",
       "max               0.294470             0.263890            0.226978   \n",
       "\n",
       "       ('Z_real', 0.07943)  ...  ('Z_imag', 1258.92517)  \\\n",
       "count          3831.000000  ...             3833.000000   \n",
       "mean              0.032442  ...                0.000576   \n",
       "std               0.019232  ...                0.000366   \n",
       "min               0.019333  ...               -0.001396   \n",
       "25%               0.022708  ...                0.000360   \n",
       "50%               0.025428  ...                0.000577   \n",
       "75%               0.032625  ...                0.000896   \n",
       "max               0.195631  ...                0.001247   \n",
       "\n",
       "       ('Z_imag', 1584.89294)  ('Z_imag', 1995.26208)  ('Z_imag', 2511.88623)  \\\n",
       "count             3833.000000             3833.000000             3833.000000   \n",
       "mean                 0.001089                0.001719                0.002500   \n",
       "std                  0.000447                0.000555                0.000681   \n",
       "min                 -0.001185               -0.000912               -0.000518   \n",
       "25%                  0.000857                0.001458                0.002189   \n",
       "50%                  0.001080                0.001724                0.002499   \n",
       "75%                  0.001477                0.002205                0.003103   \n",
       "max                  0.001904                0.002713                0.003714   \n",
       "\n",
       "       ('Z_imag', 3162.27734)  ('Z_imag', 3981.07129)  ('Z_imag', 5011.87207)  \\\n",
       "count             3833.000000             3833.000000             3833.000000   \n",
       "mean                 0.003454                0.004619                0.006040   \n",
       "std                  0.000837                0.001030                0.001273   \n",
       "min                 -0.000035                0.000572                0.001220   \n",
       "25%                  0.003076                0.004149                0.005462   \n",
       "50%                  0.003458                0.004626                0.006048   \n",
       "75%                  0.004181                0.005494                0.007109   \n",
       "max                  0.004946                0.006456                0.008309   \n",
       "\n",
       "       ('Z_imag', 6309.57324)  ('Z_imag', 7943.28223)  ('Z_imag', 10000.0)  \n",
       "count             3833.000000             3833.000000          3815.000000  \n",
       "mean                 0.007776                0.009902             0.012499  \n",
       "std                  0.001578                0.001958             0.002430  \n",
       "min                  0.001794                0.002487             0.003342  \n",
       "25%                  0.007048                0.009002             0.011373  \n",
       "50%                  0.007773                0.009867             0.012415  \n",
       "75%                  0.009091                0.011523             0.014511  \n",
       "max                  0.010586                0.013386             0.016815  \n",
       "\n",
       "[8 rows x 122 columns]"
      ]
     },
     "execution_count": 175,
     "metadata": {},
     "output_type": "execute_result"
    }
   ],
   "source": [
    "# Show input data.\n",
    "input.describe()\n",
    "\n",
    "# Comment: First variable has quite a few missing values."
   ]
  },
  {
   "cell_type": "code",
   "execution_count": 38,
   "metadata": {},
   "outputs": [],
   "source": [
    "# Preprocess data.\n",
    "\n",
    "# Impute missing values.\n",
    "imputer = SimpleImputer()\n",
    "imp_input = imputer.fit_transform(input)\n",
    "\n",
    "# Remove some anomalies.\n",
    "detector = IsolationForest(n_estimators=500, contamination=0.05, random_state=0, n_jobs=-1)\n",
    "regularities = np.array((detector.fit_predict(imp_input) + 1)/2, dtype=bool)\n",
    "clean_input, clean_output, clean_output2 = imp_input[regularities, :], output[regularities], output2[regularities]"
   ]
  },
  {
   "cell_type": "code",
   "execution_count": 27,
   "metadata": {},
   "outputs": [
    {
     "data": {
      "image/png": "[encoded data removed]",
      "text/plain": [
       "<Figure size 201.6x100.8 with 1 Axes>"
      ]
     },
     "metadata": {},
     "output_type": "display_data"
    }
   ],
   "source": [
    "pca = PCA(n_components=2, random_state=0)\n",
    "Y = pca.fit_transform(clean_input)\n",
    "color = plt.cm.viridis((clean_output.values.T - np.min(clean_output.values.T))/(np.max(clean_output.values.T) - np.min(clean_output.values.T)))[0, :, :]\n",
    "\n",
    "fig, axes = plt.subplots(1, 1, figsize=(2.8, 0.5*2.8), sharex=True, sharey=True, facecolor=\"white\")\n",
    "axes.scatter(Y[:, 0], Y[:, 1], s=2, c=color , marker=\".\",\n",
    "            norm=True, alpha=1.0)\n",
    "axes.set_xlabel(r\"principal component 1\")\n",
    "axes.set_ylabel(r\"principal component 2\")\n",
    "plt.ticklabel_format(axis=\"both\", style=\"sci\", scilimits=(0, 0))\n",
    "plt.savefig(\"./figures/soh/pca.png\", dpi=1200, orientation='landscape', bbox_inches='tight')\n",
    "plt.show()"
   ]
  },
  {
   "cell_type": "code",
   "execution_count": 41,
   "metadata": {},
   "outputs": [
    {
     "data": {
      "image/png": "[encoded data removed]",
      "text/plain": [
       "<Figure size 212.4x212.4 with 2 Axes>"
      ]
     },
     "metadata": {},
     "output_type": "display_data"
    },
    {
     "data": {
      "image/png": "[encoded data removed]",
      "text/plain": [
       "<Figure size 212.4x212.4 with 2 Axes>"
      ]
     },
     "metadata": {},
     "output_type": "display_data"
    }
   ],
   "source": [
    "fig, axes = plt.subplots(2, 1, figsize=(2.95, 2.95),  sharex=True, sharey=False, facecolor=\"white\")\n",
    "fig.tight_layout(pad=3.0)\n",
    "axes[0].set_title(r\"$Z_{real}$\")\n",
    "axes[1].set_title(r\"$Z_{imag}$\")\n",
    "markerline, stemlines, baseline = axes[0].stem(frequencies, pca.components_[0, :61], markerfmt=\"None\")\n",
    "stemlines.set_color(plt.cm.viridis(0.25))\n",
    "baseline.set_color(\"k\")\n",
    "markerline, stemlines, baseline = axes[1].stem(frequencies, pca.components_[0, 61:], markerfmt=\"None\")\n",
    "stemlines.set_color(plt.cm.viridis(0.25))\n",
    "baseline.set_color(\"k\")\n",
    "axes[1].set_xlabel(\"frequency / Hz\")\n",
    "axes[0].set_ylabel(\"loadings / a.u.\")\n",
    "axes[1].set_ylabel(\"loadings / a.u.\")\n",
    "axes[0].set_xscale(\"log\")\n",
    "axes[0].set_yscale(\"linear\")\n",
    "axes[0].ticklabel_format(axis=\"y\", style=\"sci\", scilimits=(0, 0))\n",
    "axes[1].ticklabel_format(axis=\"y\", style=\"sci\", scilimits=(0, 0))\n",
    "axes[0].set_ylim(0, 3e-1)\n",
    "axes[1].set_ylim(-10e-2, 0)\n",
    "axes[0].set_xlim(1e-2, 1e4)\n",
    "plt.savefig(\"./figures/soh/loadings1.png\", dpi=1200, orientation='landscape', bbox_inches='tight')\n",
    "plt.show()\n",
    "\n",
    "fig, axes = plt.subplots(2, 1, figsize=(2.95, 2.95),  sharex=True, sharey=False, facecolor=\"white\")\n",
    "fig.tight_layout(pad=3.0)\n",
    "axes[0].set_title(r\"$Z_{real}$\")\n",
    "axes[1].set_title(r\"$Z_{imag}$\")\n",
    "markerline, stemlines, baseline = axes[0].stem(frequencies, pca.components_[1, :61], markerfmt=\"None\")\n",
    "stemlines.set_color(plt.cm.viridis(0.25))\n",
    "baseline.set_color(\"k\")\n",
    "markerline, stemlines, baseline = axes[1].stem(frequencies, pca.components_[1, 61:], markerfmt=\"None\")\n",
    "stemlines.set_color(plt.cm.viridis(0.25))\n",
    "baseline.set_color(\"k\")\n",
    "axes[1].set_xlabel(\"frequency / Hz\")\n",
    "axes[0].set_ylabel(\"loadings / a.u.\")\n",
    "axes[1].set_ylabel(\"loadings / a.u.\")\n",
    "axes[0].set_xscale(\"log\")\n",
    "axes[0].set_yscale(\"linear\")\n",
    "axes[0].ticklabel_format(axis=\"y\", style=\"sci\", scilimits=(0, 0))\n",
    "axes[1].ticklabel_format(axis=\"y\", style=\"sci\", scilimits=(0, 0))\n",
    "axes[0].set_xlim(1e-2, 1e4)\n",
    "axes[0].set_ylim(-2e-1, 1e-1)\n",
    "axes[1].set_ylim(-1.5e-1, 0.5e-1)\n",
    "plt.savefig(\"./figures/soh/loadings2.png\", dpi=1200, orientation='landscape', bbox_inches='tight')\n",
    "plt.show()"
   ]
  },
  {
   "attachments": {},
   "cell_type": "markdown",
   "metadata": {},
   "source": [
    "# State of Health"
   ]
  },
  {
   "attachments": {},
   "cell_type": "markdown",
   "metadata": {},
   "source": [
    "NuSVR is a robust method, but nu parameter (together with gamma and C) need to be estimated through CV."
   ]
  },
  {
   "cell_type": "code",
   "execution_count": 191,
   "metadata": {},
   "outputs": [
    {
     "name": "stderr",
     "output_type": "stream",
     "text": [
      "c:\\Users\\tage\\Anaconda3\\lib\\site-packages\\sklearn\\utils\\validation.py:63: DataConversionWarning: A column-vector y was passed when a 1d array was expected. Please change the shape of y to (n_samples, ), for example using ravel().\n",
      "  return f(*args, **kwargs)\n"
     ]
    },
    {
     "data": {
      "text/plain": [
       "['model.joblib']"
      ]
     },
     "execution_count": 191,
     "metadata": {},
     "output_type": "execute_result"
    }
   ],
   "source": [
    "# Retrain model.\n",
    "model = NuSVR(kernel=\"rbf\")\n",
    "params = dict(C=np.logspace(-1, 2, 20), gamma=np.logspace(-1, 3, 20), nu=np.linspace(0.05, 0.5, 20))\n",
    "clf = RandomizedSearchCV(model, params, cv=5, scoring=\"r2\", n_iter=50, n_jobs=-1, random_state=0)\n",
    "clf.fit(clean_input, clean_output)\n",
    "dump(clf, \"soh_model.joblib\")"
   ]
  },
  {
   "attachments": {},
   "cell_type": "markdown",
   "metadata": {},
   "source": [
    "Instead of retraining model, load a saved version thereof."
   ]
  },
  {
   "cell_type": "code",
   "execution_count": 80,
   "metadata": {},
   "outputs": [],
   "source": [
    "# Load model.\n",
    "clf = load(\"soh_model.joblib\")\n",
    "\n",
    "# Compute a few metrics.\n",
    "y_pred = clf.predict(clean_input).ravel()\n",
    "y_true = clean_output.values.ravel()\n",
    "indeces = np.argsort((y_true - y_pred) ** 2) # remove one anomaly (weird sample)\n",
    "r2 = r2_score(y_true[indeces[:-1]], y_pred[indeces[:-1]])\n",
    "rmse = np.sqrt(mean_squared_error(y_true[indeces[:-1]], y_pred[indeces[:-1]]))"
   ]
  },
  {
   "cell_type": "code",
   "execution_count": 81,
   "metadata": {},
   "outputs": [
    {
     "name": "stdout",
     "output_type": "stream",
     "text": [
      "The best R2-score achieved is 0.99 .\n",
      "The best RMSE achieved is 0.0082 .\n"
     ]
    }
   ],
   "source": [
    "print(\"The best R2-score achieved is\", np.round(r2, 2), \".\")\n",
    "print(\"The best RMSE achieved is\", np.round(rmse, 4), \".\")"
   ]
  },
  {
   "cell_type": "code",
   "execution_count": 44,
   "metadata": {},
   "outputs": [
    {
     "data": {
      "image/png": "[encoded data removed]",
      "text/plain": [
       "<Figure size 201.6x100.8 with 1 Axes>"
      ]
     },
     "metadata": {},
     "output_type": "display_data"
    }
   ],
   "source": [
    "fig, axes = plt.subplots(1, 1, figsize=(2.8, 0.5*2.8), sharex=True, sharey=True, facecolor=\"white\")\n",
    "axes.set_title(\"agreement\")\n",
    "axes.plot([0.4, 1.1], [0.4, 1.1], \"-k\")\n",
    "axes.plot(y_true[indeces[:-1]], y_pred[indeces[:-1]], \".\", ms=1, color=plt.cm.viridis(0.25))\n",
    "# axes.plot(y_true[indeces[-1]], y_pred[indeces[-1]], \".\", ms=1, color=plt.cm.viridis(0.25))\n",
    "axes.set_xlim(0.45, 1.05)\n",
    "axes.set_xticks(ticks=np.linspace(0.45, 1.05, 4))\n",
    "axes.set_yticks(ticks=np.linspace(0.45, 1.05, 4))\n",
    "axes.set_ylim(0.45, 1.05)\n",
    "axes.set_xlabel(\"y$_{true}$\")\n",
    "axes.set_ylabel(\"y$_{pred}$\")\n",
    "plt.savefig(\"./figures/soh/agreement.png\", dpi=1200, orientation='landscape', bbox_inches='tight')\n",
    "plt.show()"
   ]
  },
  {
   "cell_type": "code",
   "execution_count": 16,
   "metadata": {},
   "outputs": [],
   "source": [
    "# Compute permutation importance.\n",
    "fi = permutation_importance(clf, X=clean_input[indeces[:-1], :], y=clean_output.values[indeces[:-1], :], n_repeats=10, scoring=\"r2\", n_jobs=-1, random_state=0)"
   ]
  },
  {
   "cell_type": "code",
   "execution_count": 79,
   "metadata": {},
   "outputs": [
    {
     "data": {
      "image/png": "[encoded data removed]",
      "text/plain": [
       "<Figure size 212.4x212.4 with 2 Axes>"
      ]
     },
     "metadata": {},
     "output_type": "display_data"
    }
   ],
   "source": [
    "fig, axes = plt.subplots(2, 1, figsize=(2.95, 2.95),  sharex=True, sharey=True,facecolor=\"white\")\n",
    "fig.tight_layout(pad=3.0)\n",
    "axes[0].set_title(r\"$Z_{real}$\")\n",
    "axes[1].set_title(r\"$Z_{imag}$\")\n",
    "markerline, stemlines, baseline = axes[0].stem(frequencies, fi[\"importances_mean\"][:61], markerfmt=\"None\")\n",
    "stemlines.set_color(plt.cm.viridis(0.25))\n",
    "markerline, stemlines, baseline = axes[1].stem(frequencies, fi[\"importances_mean\"][61:], markerfmt=\"None\")\n",
    "stemlines.set_color(plt.cm.viridis(0.25))\n",
    "axes[1].set_xlabel(\"frequency / Hz\")\n",
    "axes[0].set_ylabel(\"importance / a.u.\")\n",
    "axes[1].set_ylabel(\"importance / a.u.\")\n",
    "axes[0].set_xscale(\"log\")\n",
    "axes[0].set_yscale(\"log\")\n",
    "axes[0].set_xlim(1e-2, 1e4)\n",
    "axes[0].set_ylim(1e-2, 1e1)\n",
    "plt.savefig(\"./figures/soh/feature_importance.png\", dpi=1200, orientation='landscape', bbox_inches='tight')\n",
    "plt.show()"
   ]
  },
  {
   "cell_type": "code",
   "execution_count": 17,
   "metadata": {},
   "outputs": [],
   "source": [
    "# Compute order of importance.\n",
    "imp_Z_real = np.argsort(fi[\"importances_mean\"][:61])[::-1]\n",
    "imp_Z_imag = np.argsort(fi[\"importances_mean\"][61:])[::-1]"
   ]
  },
  {
   "cell_type": "code",
   "execution_count": 94,
   "metadata": {},
   "outputs": [
    {
     "name": "stderr",
     "output_type": "stream",
     "text": [
      "c:\\Users\\tage\\Anaconda3\\lib\\site-packages\\sklearn\\inspection\\_partial_dependence.py:505: FutureWarning: A Bunch will be returned in place of 'predictions' from version 1.1 (renaming of 0.26) with partial dependence results accessible via the 'average' key. In the meantime, pass kind='average' to get the future behaviour.\n",
      "  warnings.warn(\n"
     ]
    },
    {
     "data": {
      "image/png": "[encoded data removed]",
      "text/plain": [
       "<Figure size 201.6x100.8 with 1 Axes>"
      ]
     },
     "metadata": {},
     "output_type": "display_data"
    },
    {
     "name": "stderr",
     "output_type": "stream",
     "text": [
      "c:\\Users\\tage\\Anaconda3\\lib\\site-packages\\sklearn\\inspection\\_partial_dependence.py:505: FutureWarning: A Bunch will be returned in place of 'predictions' from version 1.1 (renaming of 0.26) with partial dependence results accessible via the 'average' key. In the meantime, pass kind='average' to get the future behaviour.\n",
      "  warnings.warn(\n"
     ]
    },
    {
     "data": {
      "image/png": "[encoded data removed]",
      "text/plain": [
       "<Figure size 201.6x100.8 with 1 Axes>"
      ]
     },
     "metadata": {},
     "output_type": "display_data"
    },
    {
     "name": "stderr",
     "output_type": "stream",
     "text": [
      "c:\\Users\\tage\\Anaconda3\\lib\\site-packages\\sklearn\\inspection\\_partial_dependence.py:505: FutureWarning: A Bunch will be returned in place of 'predictions' from version 1.1 (renaming of 0.26) with partial dependence results accessible via the 'average' key. In the meantime, pass kind='average' to get the future behaviour.\n",
      "  warnings.warn(\n"
     ]
    },
    {
     "data": {
      "image/png": "[encoded data removed]",
      "text/plain": [
       "<Figure size 201.6x100.8 with 1 Axes>"
      ]
     },
     "metadata": {},
     "output_type": "display_data"
    },
    {
     "name": "stderr",
     "output_type": "stream",
     "text": [
      "c:\\Users\\tage\\Anaconda3\\lib\\site-packages\\sklearn\\inspection\\_partial_dependence.py:505: FutureWarning: A Bunch will be returned in place of 'predictions' from version 1.1 (renaming of 0.26) with partial dependence results accessible via the 'average' key. In the meantime, pass kind='average' to get the future behaviour.\n",
      "  warnings.warn(\n"
     ]
    },
    {
     "data": {
      "image/png": "[encoded data removed]",
      "text/plain": [
       "<Figure size 201.6x100.8 with 1 Axes>"
      ]
     },
     "metadata": {},
     "output_type": "display_data"
    },
    {
     "name": "stderr",
     "output_type": "stream",
     "text": [
      "c:\\Users\\tage\\Anaconda3\\lib\\site-packages\\sklearn\\inspection\\_partial_dependence.py:505: FutureWarning: A Bunch will be returned in place of 'predictions' from version 1.1 (renaming of 0.26) with partial dependence results accessible via the 'average' key. In the meantime, pass kind='average' to get the future behaviour.\n",
      "  warnings.warn(\n"
     ]
    },
    {
     "data": {
      "image/png": "[encoded data removed]",
      "text/plain": [
       "<Figure size 201.6x100.8 with 1 Axes>"
      ]
     },
     "metadata": {},
     "output_type": "display_data"
    },
    {
     "name": "stderr",
     "output_type": "stream",
     "text": [
      "c:\\Users\\tage\\Anaconda3\\lib\\site-packages\\sklearn\\inspection\\_partial_dependence.py:505: FutureWarning: A Bunch will be returned in place of 'predictions' from version 1.1 (renaming of 0.26) with partial dependence results accessible via the 'average' key. In the meantime, pass kind='average' to get the future behaviour.\n",
      "  warnings.warn(\n"
     ]
    },
    {
     "data": {
      "image/png": "[encoded data removed]",
      "text/plain": [
       "<Figure size 201.6x100.8 with 1 Axes>"
      ]
     },
     "metadata": {},
     "output_type": "display_data"
    },
    {
     "name": "stderr",
     "output_type": "stream",
     "text": [
      "c:\\Users\\tage\\Anaconda3\\lib\\site-packages\\sklearn\\inspection\\_partial_dependence.py:505: FutureWarning: A Bunch will be returned in place of 'predictions' from version 1.1 (renaming of 0.26) with partial dependence results accessible via the 'average' key. In the meantime, pass kind='average' to get the future behaviour.\n",
      "  warnings.warn(\n"
     ]
    },
    {
     "data": {
      "image/png": "[encoded data removed]",
      "text/plain": [
       "<Figure size 201.6x100.8 with 1 Axes>"
      ]
     },
     "metadata": {},
     "output_type": "display_data"
    },
    {
     "name": "stderr",
     "output_type": "stream",
     "text": [
      "c:\\Users\\tage\\Anaconda3\\lib\\site-packages\\sklearn\\inspection\\_partial_dependence.py:505: FutureWarning: A Bunch will be returned in place of 'predictions' from version 1.1 (renaming of 0.26) with partial dependence results accessible via the 'average' key. In the meantime, pass kind='average' to get the future behaviour.\n",
      "  warnings.warn(\n"
     ]
    },
    {
     "data": {
      "image/png": "[encoded data removed]",
      "text/plain": [
       "<Figure size 201.6x100.8 with 1 Axes>"
      ]
     },
     "metadata": {},
     "output_type": "display_data"
    },
    {
     "name": "stderr",
     "output_type": "stream",
     "text": [
      "c:\\Users\\tage\\Anaconda3\\lib\\site-packages\\sklearn\\inspection\\_partial_dependence.py:505: FutureWarning: A Bunch will be returned in place of 'predictions' from version 1.1 (renaming of 0.26) with partial dependence results accessible via the 'average' key. In the meantime, pass kind='average' to get the future behaviour.\n",
      "  warnings.warn(\n"
     ]
    },
    {
     "data": {
      "image/png": "[encoded data removed]",
      "text/plain": [
       "<Figure size 201.6x100.8 with 1 Axes>"
      ]
     },
     "metadata": {},
     "output_type": "display_data"
    },
    {
     "name": "stderr",
     "output_type": "stream",
     "text": [
      "c:\\Users\\tage\\Anaconda3\\lib\\site-packages\\sklearn\\inspection\\_partial_dependence.py:505: FutureWarning: A Bunch will be returned in place of 'predictions' from version 1.1 (renaming of 0.26) with partial dependence results accessible via the 'average' key. In the meantime, pass kind='average' to get the future behaviour.\n",
      "  warnings.warn(\n"
     ]
    },
    {
     "data": {
      "image/png": "[encoded data removed]",
      "text/plain": [
       "<Figure size 201.6x100.8 with 1 Axes>"
      ]
     },
     "metadata": {},
     "output_type": "display_data"
    }
   ],
   "source": [
    "# Compute partial dependence.\n",
    "n_features = 10\n",
    "for i in range(n_features):\n",
    "    pdp = partial_dependence(clf, features=[imp_Z_real[i]], X=clean_input[indeces[:-1], :], percentiles=(0.1, 0.9), grid_resolution=20) \n",
    "    average, values = pdp\n",
    "    plt.figure(figsize=(2.8, 0.5*2.8), facecolor=\"white\")\n",
    "    plt.plot(values[0].flatten(), average.flatten(), color=plt.cm.viridis(0.25))\n",
    "    plt.title(\"Z$_{real}$ at \" + str(np.round(frequencies[imp_Z_real[i]], 2)) + \" Hz\")\n",
    "    plt.xlabel(\"impedance / $\\Omega$\")\n",
    "    plt.ylabel(\"state of health\")\n",
    "    plt.xlim(0.0, 0.06)\n",
    "    plt.xticks(np.linspace(0.00, 0.06, 4))\n",
    "    plt.ylim(0.6, 1.0)\n",
    "    plt.yticks(np.linspace(0.6, 1.0, 5))\n",
    "    plt.ticklabel_format(axis=\"both\", style=\"sci\", scilimits=(0, 0))\n",
    "    plt.savefig(\"./figures/soh/pdps/pdp_Z_real_\"+str(i)+\".png\", dpi=1200, orientation='landscape', bbox_inches='tight')\n",
    "    plt.show()"
   ]
  },
  {
   "cell_type": "code",
   "execution_count": 95,
   "metadata": {},
   "outputs": [
    {
     "name": "stderr",
     "output_type": "stream",
     "text": [
      "c:\\Users\\tage\\Anaconda3\\lib\\site-packages\\sklearn\\inspection\\_partial_dependence.py:505: FutureWarning: A Bunch will be returned in place of 'predictions' from version 1.1 (renaming of 0.26) with partial dependence results accessible via the 'average' key. In the meantime, pass kind='average' to get the future behaviour.\n",
      "  warnings.warn(\n"
     ]
    },
    {
     "data": {
      "image/png": "[encoded data removed]",
      "text/plain": [
       "<Figure size 201.6x100.8 with 1 Axes>"
      ]
     },
     "metadata": {},
     "output_type": "display_data"
    },
    {
     "name": "stderr",
     "output_type": "stream",
     "text": [
      "c:\\Users\\tage\\Anaconda3\\lib\\site-packages\\sklearn\\inspection\\_partial_dependence.py:505: FutureWarning: A Bunch will be returned in place of 'predictions' from version 1.1 (renaming of 0.26) with partial dependence results accessible via the 'average' key. In the meantime, pass kind='average' to get the future behaviour.\n",
      "  warnings.warn(\n"
     ]
    },
    {
     "data": {
      "image/png": "[encoded data removed]",
      "text/plain": [
       "<Figure size 201.6x100.8 with 1 Axes>"
      ]
     },
     "metadata": {},
     "output_type": "display_data"
    },
    {
     "name": "stderr",
     "output_type": "stream",
     "text": [
      "c:\\Users\\tage\\Anaconda3\\lib\\site-packages\\sklearn\\inspection\\_partial_dependence.py:505: FutureWarning: A Bunch will be returned in place of 'predictions' from version 1.1 (renaming of 0.26) with partial dependence results accessible via the 'average' key. In the meantime, pass kind='average' to get the future behaviour.\n",
      "  warnings.warn(\n"
     ]
    },
    {
     "data": {
      "image/png": "[encoded data removed]",
      "text/plain": [
       "<Figure size 201.6x100.8 with 1 Axes>"
      ]
     },
     "metadata": {},
     "output_type": "display_data"
    },
    {
     "name": "stderr",
     "output_type": "stream",
     "text": [
      "c:\\Users\\tage\\Anaconda3\\lib\\site-packages\\sklearn\\inspection\\_partial_dependence.py:505: FutureWarning: A Bunch will be returned in place of 'predictions' from version 1.1 (renaming of 0.26) with partial dependence results accessible via the 'average' key. In the meantime, pass kind='average' to get the future behaviour.\n",
      "  warnings.warn(\n"
     ]
    },
    {
     "data": {
      "image/png": "[encoded data removed]",
      "text/plain": [
       "<Figure size 201.6x100.8 with 1 Axes>"
      ]
     },
     "metadata": {},
     "output_type": "display_data"
    },
    {
     "name": "stderr",
     "output_type": "stream",
     "text": [
      "c:\\Users\\tage\\Anaconda3\\lib\\site-packages\\sklearn\\inspection\\_partial_dependence.py:505: FutureWarning: A Bunch will be returned in place of 'predictions' from version 1.1 (renaming of 0.26) with partial dependence results accessible via the 'average' key. In the meantime, pass kind='average' to get the future behaviour.\n",
      "  warnings.warn(\n"
     ]
    },
    {
     "data": {
      "image/png": "[encoded data removed]",
      "text/plain": [
       "<Figure size 201.6x100.8 with 1 Axes>"
      ]
     },
     "metadata": {},
     "output_type": "display_data"
    },
    {
     "name": "stderr",
     "output_type": "stream",
     "text": [
      "c:\\Users\\tage\\Anaconda3\\lib\\site-packages\\sklearn\\inspection\\_partial_dependence.py:505: FutureWarning: A Bunch will be returned in place of 'predictions' from version 1.1 (renaming of 0.26) with partial dependence results accessible via the 'average' key. In the meantime, pass kind='average' to get the future behaviour.\n",
      "  warnings.warn(\n"
     ]
    },
    {
     "data": {
      "image/png": "[encoded data removed]",
      "text/plain": [
       "<Figure size 201.6x100.8 with 1 Axes>"
      ]
     },
     "metadata": {},
     "output_type": "display_data"
    },
    {
     "name": "stderr",
     "output_type": "stream",
     "text": [
      "c:\\Users\\tage\\Anaconda3\\lib\\site-packages\\sklearn\\inspection\\_partial_dependence.py:505: FutureWarning: A Bunch will be returned in place of 'predictions' from version 1.1 (renaming of 0.26) with partial dependence results accessible via the 'average' key. In the meantime, pass kind='average' to get the future behaviour.\n",
      "  warnings.warn(\n"
     ]
    },
    {
     "data": {
      "image/png": "[encoded data removed]",
      "text/plain": [
       "<Figure size 201.6x100.8 with 1 Axes>"
      ]
     },
     "metadata": {},
     "output_type": "display_data"
    },
    {
     "name": "stderr",
     "output_type": "stream",
     "text": [
      "c:\\Users\\tage\\Anaconda3\\lib\\site-packages\\sklearn\\inspection\\_partial_dependence.py:505: FutureWarning: A Bunch will be returned in place of 'predictions' from version 1.1 (renaming of 0.26) with partial dependence results accessible via the 'average' key. In the meantime, pass kind='average' to get the future behaviour.\n",
      "  warnings.warn(\n"
     ]
    },
    {
     "data": {
      "image/png": "[encoded data removed]",
      "text/plain": [
       "<Figure size 201.6x100.8 with 1 Axes>"
      ]
     },
     "metadata": {},
     "output_type": "display_data"
    },
    {
     "name": "stderr",
     "output_type": "stream",
     "text": [
      "c:\\Users\\tage\\Anaconda3\\lib\\site-packages\\sklearn\\inspection\\_partial_dependence.py:505: FutureWarning: A Bunch will be returned in place of 'predictions' from version 1.1 (renaming of 0.26) with partial dependence results accessible via the 'average' key. In the meantime, pass kind='average' to get the future behaviour.\n",
      "  warnings.warn(\n"
     ]
    },
    {
     "data": {
      "image/png": "[encoded data removed]",
      "text/plain": [
       "<Figure size 201.6x100.8 with 1 Axes>"
      ]
     },
     "metadata": {},
     "output_type": "display_data"
    },
    {
     "name": "stderr",
     "output_type": "stream",
     "text": [
      "c:\\Users\\tage\\Anaconda3\\lib\\site-packages\\sklearn\\inspection\\_partial_dependence.py:505: FutureWarning: A Bunch will be returned in place of 'predictions' from version 1.1 (renaming of 0.26) with partial dependence results accessible via the 'average' key. In the meantime, pass kind='average' to get the future behaviour.\n",
      "  warnings.warn(\n"
     ]
    },
    {
     "data": {
      "image/png": "[encoded data removed]",
      "text/plain": [
       "<Figure size 201.6x100.8 with 1 Axes>"
      ]
     },
     "metadata": {},
     "output_type": "display_data"
    }
   ],
   "source": [
    "# Compute partial dependence.\n",
    "n_features = 10\n",
    "for i in range(n_features):\n",
    "    pdp = partial_dependence(clf, features=[61+imp_Z_imag[i]], X=clean_input[indeces[:-1], :], percentiles=(0.1, 0.9), grid_resolution=20) \n",
    "    average, values = pdp\n",
    "    plt.figure(figsize=(2.8, 0.5*2.8), facecolor=\"white\")\n",
    "    plt.plot(values[0].flatten(), average.flatten(), color=plt.cm.viridis(0.25))\n",
    "    plt.title(\"Z$_{imag}$ at \" + str(np.round(frequencies[imp_Z_imag[i]], 2)) + \" Hz\")\n",
    "    plt.xlabel(\"impedance / $\\Omega$\")\n",
    "    plt.ylabel(\"state of health\")\n",
    "    plt.xlim(-0.02, 0.01)\n",
    "    plt.xticks(np.linspace(-0.02, 0.01, 4))\n",
    "    plt.ylim(0.6, 1.0)\n",
    "    plt.yticks(np.linspace(0.6, 1.0, 5))\n",
    "    plt.ticklabel_format(axis=\"both\", style=\"sci\", scilimits=(0, 0))\n",
    "    plt.savefig(\"./figures/soh/pdps/pdp_Z_imag_\"+str(i)+\".png\", dpi=1200, orientation='landscape', bbox_inches='tight')\n",
    "    plt.show()"
   ]
  },
  {
   "cell_type": "code",
   "execution_count": 27,
   "metadata": {},
   "outputs": [
    {
     "data": {
      "image/png": "[encoded data removed]",
      "text/plain": [
       "<Figure size 212.4x212.4 with 2 Axes>"
      ]
     },
     "metadata": {},
     "output_type": "display_data"
    }
   ],
   "source": [
    "eps = 0.03\n",
    "similar_health = ((output.values >= output.values[indeces[-1]] - eps) & (output.values <= output.values[indeces[-1]] + eps))[indeces[:-1], :].ravel()\n",
    "\n",
    "fig, axes = plt.subplots(2, 1, figsize=(2.95, 2.95), sharex=True, facecolor=\"white\")\n",
    "fig.tight_layout(pad=3.0)\n",
    "axes[0].set_title(r\"$Z_{real}$\")\n",
    "axes[1].set_title(r\"$Z_{imag}$\")\n",
    "axes[0].plot(frequencies, clean_input[indeces[-1], :61], \"-\", color=plt.cm.viridis(0.25))\n",
    "axes[0].plot(frequencies, np.median(clean_input[indeces[:-1], :61][similar_health, :], axis=0), \":\", color=plt.cm.viridis(0.25), label=\"regular behavior\")\n",
    "axes[1].plot(frequencies, clean_input[indeces[-1], 61:], \"-\", color=plt.cm.viridis(0.25))\n",
    "axes[1].plot(frequencies, np.median(clean_input[indeces[:-1], 61:][similar_health, :], axis=0), \":\", color=plt.cm.viridis(0.25), label=\"regular behavior\")\n",
    "axes[0].set_xscale(\"log\")\n",
    "axes[1].set_xlabel(\"frequency / Hz\")\n",
    "axes[0].set_ylabel(\"impedance / \"+r\"$\\Omega$\")\n",
    "axes[1].set_ylabel(\"impedance / \"+r\"$\\Omega$\")\n",
    "axes[0].legend(frameon=False)\n",
    "axes[0].ticklabel_format(axis=\"y\", style=\"sci\", scilimits=(0, 0))\n",
    "axes[1].ticklabel_format(axis=\"y\", style=\"sci\", scilimits=(0, 0))\n",
    "plt.savefig(\"./figures/soh/anomaly.png\", dpi=1200, orientation='landscape',bbox_inches='tight')"
   ]
  },
  {
   "cell_type": "code",
   "execution_count": 7,
   "metadata": {},
   "outputs": [],
   "source": [
    "# Save test data.\n",
    "arrays = [[\"Z_real\"] * 61 + [\"Z_imag\"] * 61, 2 * list(frequencies)]\n",
    "tuples = list(zip(*arrays))\n",
    "pd.DataFrame(data=clean_input, columns=np.array(tuples)).to_csv(\"X_test.csv\")\n",
    "pd.DataFrame(data=clean_output).to_csv(\"y_test.csv\")\n",
    "\n",
    "# Compute uncertainties.\n",
    "u_x = compute_uncertainty_matrix(clean_input, frequencies)\n",
    "\n",
    "# Save data.\n",
    "pd.DataFrame(u_x, columns=np.array(tuples)).to_csv(\"u_x_test.csv\")"
   ]
  },
  {
   "cell_type": "code",
   "execution_count": 45,
   "metadata": {},
   "outputs": [
    {
     "data": {
      "image/png": "[encoded data removed]",
      "text/plain": [
       "<Figure size 201.6x100.8 with 1 Axes>"
      ]
     },
     "metadata": {},
     "output_type": "display_data"
    }
   ],
   "source": [
    "fig, axes = plt.subplots(1, 1, figsize=(2.8, 0.5*2.8), sharex=True, sharey=True, facecolor=\"white\")\n",
    "axes.set_title(r\"uncertainty\")\n",
    "axes.plot(frequencies, 2 * np.mean(u_x[:, :61], axis=0), color=plt.cm.viridis(0.25), label=r\"$Z_{real}$\")\n",
    "axes.plot(frequencies, 2 * np.mean(u_x[:, 61:], axis=0), \"--\", color=plt.cm.viridis(0.25), label=r\"$Z_{imag}$\")\n",
    "axes.set_xscale(\"log\")\n",
    "axes.set_yscale(\"log\")\n",
    "# axes.ticklabel_format(axis=\"y\", style=\"sci\", scilimits=(0, 0))\n",
    "axes.set_xlim(1e-2, 1e4)\n",
    "axes.set_ylim(1e-8, 1e-2)\n",
    "axes.set_xlabel(\"frequency / Hz\")\n",
    "axes.set_ylabel(r\"impedance / $\\Omega$\")\n",
    "plt.legend(frameon=False, ncol=2)\n",
    "plt.savefig(\"./figures/uncertainty_impedance.png\", dpi=1200, orientation='landscape',bbox_inches='tight')\n",
    "plt.show()"
   ]
  },
  {
   "attachments": {},
   "cell_type": "markdown",
   "metadata": {},
   "source": [
    "# State of Charge"
   ]
  },
  {
   "cell_type": "code",
   "execution_count": 45,
   "metadata": {},
   "outputs": [
    {
     "name": "stderr",
     "output_type": "stream",
     "text": [
      "c:\\Users\\tage\\Anaconda3\\lib\\site-packages\\sklearn\\utils\\validation.py:63: DataConversionWarning: A column-vector y was passed when a 1d array was expected. Please change the shape of y to (n_samples, ), for example using ravel().\n",
      "  return f(*args, **kwargs)\n"
     ]
    },
    {
     "data": {
      "text/plain": [
       "['soc_model.joblib']"
      ]
     },
     "execution_count": 45,
     "metadata": {},
     "output_type": "execute_result"
    }
   ],
   "source": [
    "# Retrain model.\n",
    "model = NuSVR(kernel=\"rbf\")\n",
    "params = dict(C=np.logspace(1, 4, 20), gamma=np.logspace(1, 4, 20), nu=np.linspace(0.05, 0.5, 20))\n",
    "clf = RandomizedSearchCV(model, params, cv=5, scoring=\"r2\", n_iter=50, n_jobs=-1, random_state=0)\n",
    "clf.fit(clean_input, clean_output2)\n",
    "dump(clf, \"soc_model.joblib\")"
   ]
  },
  {
   "cell_type": "code",
   "execution_count": 22,
   "metadata": {},
   "outputs": [],
   "source": [
    "# Load model.\n",
    "clf = load(\"soc_model.joblib\")"
   ]
  },
  {
   "cell_type": "code",
   "execution_count": 47,
   "metadata": {},
   "outputs": [
    {
     "name": "stdout",
     "output_type": "stream",
     "text": [
      "The best R2-score achieved is 0.77 .\n"
     ]
    }
   ],
   "source": [
    "print(\"The best R2-score achieved is\", np.round(clf.best_score_, 2), \".\")"
   ]
  },
  {
   "cell_type": "code",
   "execution_count": 48,
   "metadata": {},
   "outputs": [
    {
     "data": {
      "image/png": "[encoded data removed]",
      "text/plain": [
       "<Figure size 212.4x106.2 with 1 Axes>"
      ]
     },
     "metadata": {},
     "output_type": "display_data"
    }
   ],
   "source": [
    "y_pred = clf.predict(clean_input)\n",
    "\n",
    "plt.figure(figsize=(2.95, 0.5*2.95), facecolor=\"white\")\n",
    "plt.title(\"agreement (R$^2$ = \"+str(np.round(clf.best_score_, 2))+\")\")\n",
    "plt.plot([0, 120], [0, 120], \"-k\")\n",
    "plt.plot(clean_output2, y_pred, \".\", ms=2, color=plt.cm.viridis(0.25))\n",
    "plt.xlim(0, 120)\n",
    "plt.xticks(ticks=np.linspace(0, 120, 4))\n",
    "plt.yticks(ticks=np.linspace(0, 120, 4))\n",
    "plt.ylim(0, 120)\n",
    "plt.xlabel(\"y$_{true}$\")\n",
    "plt.ylabel(\"y$_{predict}$\")\n",
    "plt.savefig(\"./figures/soc/agreement.png\", dpi=1200, orientation='landscape', bbox_inches='tight')\n",
    "plt.show()"
   ]
  },
  {
   "cell_type": "code",
   "execution_count": 49,
   "metadata": {},
   "outputs": [],
   "source": [
    "# Compute permutation importance.\n",
    "fi = permutation_importance(clf, X=clean_input, y=clean_output2, n_repeats=10, scoring=\"r2\", n_jobs=-1, random_state=0)"
   ]
  },
  {
   "cell_type": "code",
   "execution_count": 51,
   "metadata": {},
   "outputs": [
    {
     "data": {
      "image/png": "[encoded data removed]",
      "text/plain": [
       "<Figure size 212.4x212.4 with 2 Axes>"
      ]
     },
     "metadata": {},
     "output_type": "display_data"
    }
   ],
   "source": [
    "fig, axes = plt.subplots(2, 1, figsize=(2.95, 2.95), sharex=True, sharey=True, facecolor=\"white\")\n",
    "fig.tight_layout(pad=3.0)\n",
    "axes[0].set_title(r\"$Z_{real}$\")\n",
    "axes[1].set_title(r\"$Z_{imag}$\")\n",
    "markerline, stemlines, baseline = axes[0].stem(frequencies, fi[\"importances_mean\"][:61], markerfmt=\"None\")\n",
    "stemlines.set_color(plt.cm.viridis(0.25))\n",
    "markerline, stemlines, baseline = axes[1].stem(frequencies, fi[\"importances_mean\"][61:], markerfmt=\"None\")\n",
    "stemlines.set_color(plt.cm.viridis(0.25))\n",
    "axes[1].set_xlabel(\"frequency / Hz\")\n",
    "axes[0].set_ylabel(\"importance / a.u.\")\n",
    "axes[1].set_ylabel(\"importance / a.u.\")\n",
    "axes[0].set_xscale(\"log\")\n",
    "axes[0].set_yscale(\"log\")\n",
    "axes[0].set_xlim(1e-2, 1e4)\n",
    "axes[0].set_ylim(1e-1, 1e2)\n",
    "plt.savefig(\"./figures/soc/feature_importance.png\", dpi=1200, orientation='landscape', bbox_inches='tight')\n",
    "plt.show()"
   ]
  },
  {
   "cell_type": "code",
   "execution_count": 36,
   "metadata": {},
   "outputs": [],
   "source": [
    "# Compute order of importance.\n",
    "imp_Z_real = np.argsort(fi[\"importances_mean\"][:61])[::-1]\n",
    "imp_Z_imag = np.argsort(fi[\"importances_mean\"][61:])[::-1]"
   ]
  },
  {
   "cell_type": "code",
   "execution_count": 37,
   "metadata": {},
   "outputs": [
    {
     "name": "stderr",
     "output_type": "stream",
     "text": [
      "c:\\Users\\tage\\Anaconda3\\lib\\site-packages\\sklearn\\inspection\\_partial_dependence.py:505: FutureWarning: A Bunch will be returned in place of 'predictions' from version 1.1 (renaming of 0.26) with partial dependence results accessible via the 'average' key. In the meantime, pass kind='average' to get the future behaviour.\n",
      "  warnings.warn(\n"
     ]
    },
    {
     "data": {
      "image/png": "[encoded data removed]",
      "text/plain": [
       "<Figure size 212.4x106.2 with 1 Axes>"
      ]
     },
     "metadata": {},
     "output_type": "display_data"
    },
    {
     "name": "stderr",
     "output_type": "stream",
     "text": [
      "c:\\Users\\tage\\Anaconda3\\lib\\site-packages\\sklearn\\inspection\\_partial_dependence.py:505: FutureWarning: A Bunch will be returned in place of 'predictions' from version 1.1 (renaming of 0.26) with partial dependence results accessible via the 'average' key. In the meantime, pass kind='average' to get the future behaviour.\n",
      "  warnings.warn(\n"
     ]
    },
    {
     "data": {
      "image/png": "[encoded data removed]",
      "text/plain": [
       "<Figure size 212.4x106.2 with 1 Axes>"
      ]
     },
     "metadata": {},
     "output_type": "display_data"
    },
    {
     "name": "stderr",
     "output_type": "stream",
     "text": [
      "c:\\Users\\tage\\Anaconda3\\lib\\site-packages\\sklearn\\inspection\\_partial_dependence.py:505: FutureWarning: A Bunch will be returned in place of 'predictions' from version 1.1 (renaming of 0.26) with partial dependence results accessible via the 'average' key. In the meantime, pass kind='average' to get the future behaviour.\n",
      "  warnings.warn(\n"
     ]
    },
    {
     "data": {
      "image/png": "[encoded data removed]",
      "text/plain": [
       "<Figure size 212.4x106.2 with 1 Axes>"
      ]
     },
     "metadata": {},
     "output_type": "display_data"
    },
    {
     "name": "stderr",
     "output_type": "stream",
     "text": [
      "c:\\Users\\tage\\Anaconda3\\lib\\site-packages\\sklearn\\inspection\\_partial_dependence.py:505: FutureWarning: A Bunch will be returned in place of 'predictions' from version 1.1 (renaming of 0.26) with partial dependence results accessible via the 'average' key. In the meantime, pass kind='average' to get the future behaviour.\n",
      "  warnings.warn(\n"
     ]
    },
    {
     "data": {
      "image/png": "[encoded data removed]",
      "text/plain": [
       "<Figure size 212.4x106.2 with 1 Axes>"
      ]
     },
     "metadata": {},
     "output_type": "display_data"
    },
    {
     "name": "stderr",
     "output_type": "stream",
     "text": [
      "c:\\Users\\tage\\Anaconda3\\lib\\site-packages\\sklearn\\inspection\\_partial_dependence.py:505: FutureWarning: A Bunch will be returned in place of 'predictions' from version 1.1 (renaming of 0.26) with partial dependence results accessible via the 'average' key. In the meantime, pass kind='average' to get the future behaviour.\n",
      "  warnings.warn(\n"
     ]
    },
    {
     "data": {
      "image/png": "[encoded data removed]",
      "text/plain": [
       "<Figure size 212.4x106.2 with 1 Axes>"
      ]
     },
     "metadata": {},
     "output_type": "display_data"
    },
    {
     "name": "stderr",
     "output_type": "stream",
     "text": [
      "c:\\Users\\tage\\Anaconda3\\lib\\site-packages\\sklearn\\inspection\\_partial_dependence.py:505: FutureWarning: A Bunch will be returned in place of 'predictions' from version 1.1 (renaming of 0.26) with partial dependence results accessible via the 'average' key. In the meantime, pass kind='average' to get the future behaviour.\n",
      "  warnings.warn(\n"
     ]
    },
    {
     "data": {
      "image/png": "[encoded data removed]",
      "text/plain": [
       "<Figure size 212.4x106.2 with 1 Axes>"
      ]
     },
     "metadata": {},
     "output_type": "display_data"
    },
    {
     "name": "stderr",
     "output_type": "stream",
     "text": [
      "c:\\Users\\tage\\Anaconda3\\lib\\site-packages\\sklearn\\inspection\\_partial_dependence.py:505: FutureWarning: A Bunch will be returned in place of 'predictions' from version 1.1 (renaming of 0.26) with partial dependence results accessible via the 'average' key. In the meantime, pass kind='average' to get the future behaviour.\n",
      "  warnings.warn(\n"
     ]
    },
    {
     "data": {
      "image/png": "[encoded data removed]",
      "text/plain": [
       "<Figure size 212.4x106.2 with 1 Axes>"
      ]
     },
     "metadata": {},
     "output_type": "display_data"
    },
    {
     "name": "stderr",
     "output_type": "stream",
     "text": [
      "c:\\Users\\tage\\Anaconda3\\lib\\site-packages\\sklearn\\inspection\\_partial_dependence.py:505: FutureWarning: A Bunch will be returned in place of 'predictions' from version 1.1 (renaming of 0.26) with partial dependence results accessible via the 'average' key. In the meantime, pass kind='average' to get the future behaviour.\n",
      "  warnings.warn(\n"
     ]
    },
    {
     "data": {
      "image/png": "[encoded data removed]",
      "text/plain": [
       "<Figure size 212.4x106.2 with 1 Axes>"
      ]
     },
     "metadata": {},
     "output_type": "display_data"
    },
    {
     "name": "stderr",
     "output_type": "stream",
     "text": [
      "c:\\Users\\tage\\Anaconda3\\lib\\site-packages\\sklearn\\inspection\\_partial_dependence.py:505: FutureWarning: A Bunch will be returned in place of 'predictions' from version 1.1 (renaming of 0.26) with partial dependence results accessible via the 'average' key. In the meantime, pass kind='average' to get the future behaviour.\n",
      "  warnings.warn(\n"
     ]
    },
    {
     "data": {
      "image/png": "[encoded data removed]",
      "text/plain": [
       "<Figure size 212.4x106.2 with 1 Axes>"
      ]
     },
     "metadata": {},
     "output_type": "display_data"
    },
    {
     "name": "stderr",
     "output_type": "stream",
     "text": [
      "c:\\Users\\tage\\Anaconda3\\lib\\site-packages\\sklearn\\inspection\\_partial_dependence.py:505: FutureWarning: A Bunch will be returned in place of 'predictions' from version 1.1 (renaming of 0.26) with partial dependence results accessible via the 'average' key. In the meantime, pass kind='average' to get the future behaviour.\n",
      "  warnings.warn(\n"
     ]
    },
    {
     "data": {
      "image/png": "[encoded data removed]",
      "text/plain": [
       "<Figure size 212.4x106.2 with 1 Axes>"
      ]
     },
     "metadata": {},
     "output_type": "display_data"
    }
   ],
   "source": [
    "# Compute partial dependence.\n",
    "n_features = 10\n",
    "for i in range(n_features):\n",
    "    pdp = partial_dependence(clf, features=[imp_Z_real[i]], X=clean_input, percentiles=(0.05, 0.95), grid_resolution=10, kind=\"individual\") \n",
    "    average, values = pdp\n",
    "    plt.figure(figsize=(2.95, 0.5*2.95), facecolor=\"white\")\n",
    "    plt.plot(values[0].flatten(), average.flatten(), color=plt.cm.viridis(0.25))\n",
    "    plt.title(\"Z$_{real}$ at \" + str(np.round(frequencies[imp_Z_real[i]], 2)) + \" Hz\")\n",
    "    plt.xlabel(\"impedance / $\\Omega$\")\n",
    "    plt.ylabel(\"state of charge\")\n",
    "    plt.xlim(0.02, 0.06)\n",
    "    plt.xticks(np.linspace(0.02, 0.06, 5))\n",
    "    plt.ylim(0, 100)\n",
    "    plt.yticks(np.linspace(0, 100, 5))\n",
    "    plt.ticklabel_format(axis=\"both\", style=\"sci\", scilimits=(0, 0))\n",
    "    plt.savefig(\"./figures/soc/pdps/pdp_Z_real_\"+str(i)+\".png\", dpi=1200, orientation='landscape', bbox_inches='tight')\n",
    "    plt.show()"
   ]
  },
  {
   "cell_type": "code",
   "execution_count": 52,
   "metadata": {},
   "outputs": [
    {
     "name": "stderr",
     "output_type": "stream",
     "text": [
      "c:\\Users\\tage\\Anaconda3\\lib\\site-packages\\sklearn\\inspection\\_partial_dependence.py:505: FutureWarning: A Bunch will be returned in place of 'predictions' from version 1.1 (renaming of 0.26) with partial dependence results accessible via the 'average' key. In the meantime, pass kind='average' to get the future behaviour.\n",
      "  warnings.warn(\n"
     ]
    },
    {
     "data": {
      "image/png": "[encoded data removed]",
      "text/plain": [
       "<Figure size 212.4x106.2 with 1 Axes>"
      ]
     },
     "metadata": {},
     "output_type": "display_data"
    },
    {
     "name": "stderr",
     "output_type": "stream",
     "text": [
      "c:\\Users\\tage\\Anaconda3\\lib\\site-packages\\sklearn\\inspection\\_partial_dependence.py:505: FutureWarning: A Bunch will be returned in place of 'predictions' from version 1.1 (renaming of 0.26) with partial dependence results accessible via the 'average' key. In the meantime, pass kind='average' to get the future behaviour.\n",
      "  warnings.warn(\n"
     ]
    },
    {
     "data": {
      "image/png": "[encoded data removed]",
      "text/plain": [
       "<Figure size 212.4x106.2 with 1 Axes>"
      ]
     },
     "metadata": {},
     "output_type": "display_data"
    },
    {
     "name": "stderr",
     "output_type": "stream",
     "text": [
      "c:\\Users\\tage\\Anaconda3\\lib\\site-packages\\sklearn\\inspection\\_partial_dependence.py:505: FutureWarning: A Bunch will be returned in place of 'predictions' from version 1.1 (renaming of 0.26) with partial dependence results accessible via the 'average' key. In the meantime, pass kind='average' to get the future behaviour.\n",
      "  warnings.warn(\n"
     ]
    },
    {
     "data": {
      "image/png": "[encoded data removed]",
      "text/plain": [
       "<Figure size 212.4x106.2 with 1 Axes>"
      ]
     },
     "metadata": {},
     "output_type": "display_data"
    },
    {
     "name": "stderr",
     "output_type": "stream",
     "text": [
      "c:\\Users\\tage\\Anaconda3\\lib\\site-packages\\sklearn\\inspection\\_partial_dependence.py:505: FutureWarning: A Bunch will be returned in place of 'predictions' from version 1.1 (renaming of 0.26) with partial dependence results accessible via the 'average' key. In the meantime, pass kind='average' to get the future behaviour.\n",
      "  warnings.warn(\n"
     ]
    },
    {
     "data": {
      "image/png": "[encoded data removed]",
      "text/plain": [
       "<Figure size 212.4x106.2 with 1 Axes>"
      ]
     },
     "metadata": {},
     "output_type": "display_data"
    },
    {
     "name": "stderr",
     "output_type": "stream",
     "text": [
      "c:\\Users\\tage\\Anaconda3\\lib\\site-packages\\sklearn\\inspection\\_partial_dependence.py:505: FutureWarning: A Bunch will be returned in place of 'predictions' from version 1.1 (renaming of 0.26) with partial dependence results accessible via the 'average' key. In the meantime, pass kind='average' to get the future behaviour.\n",
      "  warnings.warn(\n"
     ]
    },
    {
     "data": {
      "image/png": "[encoded data removed]",
      "text/plain": [
       "<Figure size 212.4x106.2 with 1 Axes>"
      ]
     },
     "metadata": {},
     "output_type": "display_data"
    },
    {
     "name": "stderr",
     "output_type": "stream",
     "text": [
      "c:\\Users\\tage\\Anaconda3\\lib\\site-packages\\sklearn\\inspection\\_partial_dependence.py:505: FutureWarning: A Bunch will be returned in place of 'predictions' from version 1.1 (renaming of 0.26) with partial dependence results accessible via the 'average' key. In the meantime, pass kind='average' to get the future behaviour.\n",
      "  warnings.warn(\n"
     ]
    },
    {
     "data": {
      "image/png": "[encoded data removed]",
      "text/plain": [
       "<Figure size 212.4x106.2 with 1 Axes>"
      ]
     },
     "metadata": {},
     "output_type": "display_data"
    },
    {
     "name": "stderr",
     "output_type": "stream",
     "text": [
      "c:\\Users\\tage\\Anaconda3\\lib\\site-packages\\sklearn\\inspection\\_partial_dependence.py:505: FutureWarning: A Bunch will be returned in place of 'predictions' from version 1.1 (renaming of 0.26) with partial dependence results accessible via the 'average' key. In the meantime, pass kind='average' to get the future behaviour.\n",
      "  warnings.warn(\n"
     ]
    },
    {
     "data": {
      "image/png": "[encoded data removed]",
      "text/plain": [
       "<Figure size 212.4x106.2 with 1 Axes>"
      ]
     },
     "metadata": {},
     "output_type": "display_data"
    },
    {
     "name": "stderr",
     "output_type": "stream",
     "text": [
      "c:\\Users\\tage\\Anaconda3\\lib\\site-packages\\sklearn\\inspection\\_partial_dependence.py:505: FutureWarning: A Bunch will be returned in place of 'predictions' from version 1.1 (renaming of 0.26) with partial dependence results accessible via the 'average' key. In the meantime, pass kind='average' to get the future behaviour.\n",
      "  warnings.warn(\n"
     ]
    },
    {
     "data": {
      "image/png": "[encoded data removed]",
      "text/plain": [
       "<Figure size 212.4x106.2 with 1 Axes>"
      ]
     },
     "metadata": {},
     "output_type": "display_data"
    },
    {
     "name": "stderr",
     "output_type": "stream",
     "text": [
      "c:\\Users\\tage\\Anaconda3\\lib\\site-packages\\sklearn\\inspection\\_partial_dependence.py:505: FutureWarning: A Bunch will be returned in place of 'predictions' from version 1.1 (renaming of 0.26) with partial dependence results accessible via the 'average' key. In the meantime, pass kind='average' to get the future behaviour.\n",
      "  warnings.warn(\n"
     ]
    },
    {
     "data": {
      "image/png": "[encoded data removed]",
      "text/plain": [
       "<Figure size 212.4x106.2 with 1 Axes>"
      ]
     },
     "metadata": {},
     "output_type": "display_data"
    },
    {
     "name": "stderr",
     "output_type": "stream",
     "text": [
      "c:\\Users\\tage\\Anaconda3\\lib\\site-packages\\sklearn\\inspection\\_partial_dependence.py:505: FutureWarning: A Bunch will be returned in place of 'predictions' from version 1.1 (renaming of 0.26) with partial dependence results accessible via the 'average' key. In the meantime, pass kind='average' to get the future behaviour.\n",
      "  warnings.warn(\n"
     ]
    },
    {
     "data": {
      "image/png": "[encoded data removed]",
      "text/plain": [
       "<Figure size 212.4x106.2 with 1 Axes>"
      ]
     },
     "metadata": {},
     "output_type": "display_data"
    }
   ],
   "source": [
    "# Compute partial dependence.\n",
    "n_features = 10\n",
    "for i in range(n_features):\n",
    "    pdp = partial_dependence(clf, features=[61+imp_Z_imag[i]], X=clean_input, percentiles=(0.05, 0.95), grid_resolution=10) \n",
    "    average, values = pdp\n",
    "    plt.figure(figsize=(2.95, 0.5*2.95), facecolor=\"white\")\n",
    "    plt.plot(values[0].flatten(), average.flatten(), color=plt.cm.viridis(0.25))\n",
    "    plt.title(\"Z$_{imag}$ at \" + str(np.round(frequencies[imp_Z_imag[i]], 2)) + \" Hz\")\n",
    "    plt.xlabel(\"impedance / $\\Omega$\")\n",
    "    plt.ylabel(\"state of charge\")\n",
    "    plt.xlim(-0.02, 0.00)\n",
    "    plt.xticks(np.linspace(-0.02, 0.00, 3))\n",
    "    plt.ylim(0.8, 1.0)\n",
    "    plt.yticks(np.linspace(0, 100, 5))\n",
    "    plt.ticklabel_format(axis=\"both\", style=\"sci\", scilimits=(0, 0))\n",
    "    plt.savefig(\"./figures/soc/pdps/pdp_Z_imag_\"+str(i)+\".png\", dpi=1200, orientation='landscape', bbox_inches='tight')\n",
    "    plt.show()"
   ]
  }
 ],
 "metadata": {
  "kernelspec": {
   "display_name": "base",
   "language": "python",
   "name": "python3"
  },
  "language_info": {
   "codemirror_mode": {
    "name": "ipython",
    "version": 3
   },
   "file_extension": ".py",
   "mimetype": "text/x-python",
   "name": "python",
   "nbconvert_exporter": "python",
   "pygments_lexer": "ipython3",
   "version": "3.8.8"
  },
  "orig_nbformat": 4
 },
 "nbformat": 4,
 "nbformat_minor": 2
}
