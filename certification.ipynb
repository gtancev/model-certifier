{
 "cells": [
  {
   "cell_type": "code",
   "execution_count": 1,
   "metadata": {},
   "outputs": [],
   "source": [
    "# Import libraries.\n",
    "from joblib import dump, load\n",
    "import pandas as pd\n",
    "import numpy as np\n",
    "from ModelCertifier import ModelCertifier\n",
    "\n",
    "%matplotlib inline\n",
    "import matplotlib.pyplot as plt\n",
    "from matplotlib.patches import Ellipse\n",
    "import matplotlib.transforms as transforms\n",
    "from matplotlib.collections import PolyCollection\n",
    "plt.rcParams[\"lines.linewidth\"] = 1.0\n",
    "plt.rcParams[\"font.size\"] = 6.0\n",
    "plt.rcParams[\"axes.titlesize\"] = 6.0"
   ]
  },
  {
   "cell_type": "code",
   "execution_count": 2,
   "metadata": {},
   "outputs": [],
   "source": [
    "# Load model.\n",
    "clf = load(\"soh_model.joblib\")\n",
    "base_model = clf.best_estimator_\n",
    "X = pd.read_csv(\"X_test.csv\", index_col=0)\n",
    "y = pd.read_csv(\"y_test.csv\", index_col=0)\n",
    "u_x = pd.read_csv(\"u_x_test.csv\", index_col=0)"
   ]
  },
  {
   "cell_type": "code",
   "execution_count": 3,
   "metadata": {},
   "outputs": [],
   "source": [
    "# Instantiate certifier class and perform estimation.\n",
    "certifier = ModelCertifier()\n",
    "X_test, predictions = certifier.estimate_uncertainty(X.values,\n",
    "                                                     y.values.ravel(),\n",
    "                                                     base_model,\n",
    "                                                     u_x,\n",
    "                                                     X_test=X.values)\n",
    "\n",
    "# Save data.\n",
    "pd.DataFrame(predictions).to_csv(\"MC_simulations.csv\")"
   ]
  },
  {
   "cell_type": "code",
   "execution_count": 4,
   "metadata": {},
   "outputs": [],
   "source": [
    "# Load data.\n",
    "predictions = pd.read_csv(\"MC_simulations.csv\")"
   ]
  },
  {
   "cell_type": "code",
   "execution_count": 138,
   "metadata": {},
   "outputs": [
    {
     "data": {
      "image/png": "[encoded data removed]",
      "text/plain": [
       "<Figure size 201.6x100.8 with 1 Axes>"
      ]
     },
     "metadata": {},
     "output_type": "display_data"
    }
   ],
   "source": [
    "q_50 = np.quantile(2 * np.std(predictions, axis=1), q=0.5)\n",
    "fig, axes = plt.subplots(1, 1, figsize=(2.8, 0.5*2.8), sharex=True, sharey=True, facecolor=\"white\")\n",
    "axes.set_title(r\"global uncertainty\")\n",
    "axes.hist(2 * np.std(predictions, axis=1), bins=np.linspace(2e-2, 3.5e-2, 86),\n",
    "          density=True, \n",
    "          color=plt.cm.viridis(0.25),\n",
    "          alpha=0.8)\n",
    "plt.ticklabel_format(axis=\"both\", style=\"sci\", scilimits=(0, 0))\n",
    "axes.plot([q_50, q_50], [0, 400], \":\", color=\"k\", label=r\"$q_{0.5}$\")\n",
    "axes.set_xlabel(r\"$U$\")\n",
    "axes.set_ylabel(r\"$\\rho$\")\n",
    "axes.set_xlim(1.5e-2, 3.5e-2)\n",
    "axes.set_ylim(0, 4e2)\n",
    "axes.legend(frameon=False)\n",
    "plt.savefig(\"./figures/soh/uncertainty.png\", dpi=1200, orientation='landscape', bbox_inches='tight')\n",
    "plt.show()"
   ]
  },
  {
   "cell_type": "code",
   "execution_count": 15,
   "metadata": {},
   "outputs": [
    {
     "data": {
      "text/html": [
       "<div>\n",
       "<style scoped>\n",
       "    .dataframe tbody tr th:only-of-type {\n",
       "        vertical-align: middle;\n",
       "    }\n",
       "\n",
       "    .dataframe tbody tr th {\n",
       "        vertical-align: top;\n",
       "    }\n",
       "\n",
       "    .dataframe thead th {\n",
       "        text-align: right;\n",
       "    }\n",
       "</style>\n",
       "<table border=\"1\" class=\"dataframe\">\n",
       "  <thead>\n",
       "    <tr style=\"text-align: right;\">\n",
       "      <th></th>\n",
       "      <th>SOH</th>\n",
       "    </tr>\n",
       "  </thead>\n",
       "  <tbody>\n",
       "    <tr>\n",
       "      <th>0.05</th>\n",
       "      <td>0.023344</td>\n",
       "    </tr>\n",
       "    <tr>\n",
       "      <th>0.25</th>\n",
       "      <td>0.023988</td>\n",
       "    </tr>\n",
       "    <tr>\n",
       "      <th>0.50</th>\n",
       "      <td>0.024691</td>\n",
       "    </tr>\n",
       "    <tr>\n",
       "      <th>0.75</th>\n",
       "      <td>0.025850</td>\n",
       "    </tr>\n",
       "    <tr>\n",
       "      <th>0.95</th>\n",
       "      <td>0.029013</td>\n",
       "    </tr>\n",
       "  </tbody>\n",
       "</table>\n",
       "</div>"
      ],
      "text/plain": [
       "           SOH\n",
       "0.05  0.023344\n",
       "0.25  0.023988\n",
       "0.50  0.024691\n",
       "0.75  0.025850\n",
       "0.95  0.029013"
      ]
     },
     "execution_count": 15,
     "metadata": {},
     "output_type": "execute_result"
    }
   ],
   "source": [
    "# Quantiles of uncertainty distribution.\n",
    "q = [0.05, 0.25, 0.5, 0.75, 0.95]  # quantiles\n",
    "pd.DataFrame(np.quantile(2 * np.std(predictions, axis=1), q=q), index=q, columns=[\"SOH\"])"
   ]
  },
  {
   "cell_type": "code",
   "execution_count": 123,
   "metadata": {},
   "outputs": [
    {
     "data": {
      "image/png": "[encoded data removed]",
      "text/plain": [
       "<Figure size 201.6x100.8 with 1 Axes>"
      ]
     },
     "metadata": {},
     "output_type": "display_data"
    }
   ],
   "source": [
    "index = 200\n",
    "fig, axes = plt.subplots(1, 1, figsize=(2.8, 0.5*2.8), sharex=True, sharey=True, facecolor=\"white\")\n",
    "axes.set_title(r\"local uncertainty\")\n",
    "axes.hist(predictions[index, :], bins=101,\n",
    "          density=True, \n",
    "          color=plt.cm.viridis(0.25),\n",
    "          alpha=0.8)\n",
    "axes.plot([y.SOH[index], y.SOH[index]], [0, 40], \":\", color=\"k\", label=r\"$y_{true}$\")\n",
    "plt.ticklabel_format(axis=\"both\", style=\"sci\", scilimits=(0, 0))\n",
    "axes.set_xlabel(r\"state of health\")\n",
    "axes.set_ylabel(r\"$\\rho$\")\n",
    "axes.set_xlim(7.6e-1, 9e-1)\n",
    "axes.set_ylim(0, 40)\n",
    "axes.legend(frameon=False)\n",
    "plt.savefig(\"./figures/soh/uncertainty_single.png\", dpi=1200, orientation='landscape', bbox_inches='tight')\n",
    "plt.show()"
   ]
  },
  {
   "cell_type": "code",
   "execution_count": 132,
   "metadata": {},
   "outputs": [
    {
     "name": "stdout",
     "output_type": "stream",
     "text": [
      "The model uncertainty is 0.0013385957847425157 .\n"
     ]
    }
   ],
   "source": [
    "B = 20\n",
    "M = 10000\n",
    "model_averages = np.zeros((predictions.shape[0], B))\n",
    "for b in range(B):\n",
    "    model_averages[:, b] = np.mean(predictions[:, b * M : (b + 1) * M], axis=1)\n",
    "print(\"The model uncertainty is\", np.median(np.std(model_averages, axis=1)), \".\")"
   ]
  },
  {
   "cell_type": "code",
   "execution_count": 171,
   "metadata": {},
   "outputs": [
    {
     "name": "stdout",
     "output_type": "stream",
     "text": [
      "The input uncertainty is 0.009131044501397212 .\n"
     ]
    }
   ],
   "source": [
    "# Uncertainty Budget\n",
    "u_m = np.median(np.std(model_averages, axis=1))\n",
    "u_y = np.quantile(np.std(predictions, axis=1), q=0.5)\n",
    "sigma_y = 8.2e-3\n",
    "u_x = np.sqrt(u_y ** 2 - u_m ** 2 - sigma_y ** 2)\n",
    "print(\"The input uncertainty is\", u_x, \".\")"
   ]
  },
  {
   "cell_type": "code",
   "execution_count": 122,
   "metadata": {},
   "outputs": [
    {
     "data": {
      "image/png": "[encoded data removed]",
      "text/plain": [
       "<Figure size 201.6x100.8 with 1 Axes>"
      ]
     },
     "metadata": {},
     "output_type": "display_data"
    }
   ],
   "source": [
    "U = 2 * np.median(np.std(predictions, axis=1))\n",
    "y_pred = np.mean(predictions, axis=1)\n",
    "x1, x2 = (y.values.ravel() + y_pred) / 2, y.values.ravel() - y_pred\n",
    "\n",
    "fig, axes = plt.subplots(1, 1, figsize=(2.8, 0.5*2.8), sharex=True, sharey=True, facecolor=\"white\")\n",
    "axes.set_title(\"agreement\")\n",
    "axes.plot(x1, x2, \".\", ms=1, color=plt.cm.viridis(0.25))\n",
    "axes.plot([0.4, 1.1], [U, U], \":\", color=\"k\", alpha=1.0, label=r\"$\\pm U$\")\n",
    "axes.plot([0.4, 1.1], [-U, -U], \":\", color=\"k\", alpha=1.0)\n",
    "axes.set_xlabel(r\"$\\dfrac{y_{true}+y_{pred}}{2}$\")\n",
    "axes.set_ylabel(r\"$y_{true}-y_{pred}$\")\n",
    "axes.set_xlim(0.4, 1.1)\n",
    "axes.set_ylim(-0.1, 0.1)\n",
    "axes.set_yticks(np.linspace(-0.1, 0.1, 3))\n",
    "axes.ticklabel_format(axis=\"both\", style=\"sci\", scilimits=(0, 0))\n",
    "axes.legend(frameon=False, loc=3)\n",
    "plt.savefig(\"./figures/soh/Bland_Altmann.png\", dpi=1200, orientation='landscape', bbox_inches='tight')\n",
    "plt.show()"
   ]
  },
  {
   "cell_type": "code",
   "execution_count": 172,
   "metadata": {},
   "outputs": [
    {
     "name": "stdout",
     "output_type": "stream",
     "text": [
      "The percentage of points outside of the confidence is 1.9 %.\n"
     ]
    }
   ],
   "source": [
    "print(\"The percentage of points outside of the confidence is\", np.round((np.sum(((x2 > U) | (x2 < -U))) / np.count_nonzero(x2)) * 100, 1), \"%.\")"
   ]
  }
 ],
 "metadata": {
  "kernelspec": {
   "display_name": "base",
   "language": "python",
   "name": "python3"
  },
  "language_info": {
   "codemirror_mode": {
    "name": "ipython",
    "version": 3
   },
   "file_extension": ".py",
   "mimetype": "text/x-python",
   "name": "python",
   "nbconvert_exporter": "python",
   "pygments_lexer": "ipython3",
   "version": "3.8.8"
  },
  "orig_nbformat": 4
 },
 "nbformat": 4,
 "nbformat_minor": 2
}
